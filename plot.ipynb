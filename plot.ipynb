{
 "cells": [
  {
   "cell_type": "code",
   "execution_count": 17,
   "metadata": {},
   "outputs": [],
   "source": [
    "# !pip install plotly\n",
    "# !pip install nbformat\n",
    "import plotly.express as px\n",
    "import numpy as np\n",
    "import pandas as pd\n",
    "from sklearn.metrics import mean_squared_error\n",
    "from math import sqrt\n",
    "from pathlib import Path\n",
    "import time"
   ]
  },
  {
   "cell_type": "code",
   "execution_count": 18,
   "metadata": {},
   "outputs": [],
   "source": [
    "# set the dir path\n",
    "timesNetDir = \"long_term_forecast_wind_12_12_TimesNet_custom_ftMS_sl12_ll5_pl12_dm64_nh8_el3_dl1_df64_fc3_ebtimeF_dtTrue_Exp_0\"\n",
    "dir = Path(f\"results/{timesNetDir}\")\n",
    "\n",
    "# Load the time index of testing set\n",
    "index_df = pd.read_csv('test_index.csv')\n",
    "index_df['date'] = pd.to_datetime(index_df['date'])\n",
    "\n",
    "# Load true values\n",
    "trues = np.load(dir/\"true.npy\").reshape(-1, 12)\n",
    "trues_df = pd.DataFrame(trues).join(index_df).rename(columns={i: f\"Trues_p{i+1}\" for i in range(12)})\n",
    "trues_df = trues_df.set_index(\"date\")\n",
    "\n",
    "# Load true values of TimesNet\n",
    "preds = np.load(dir/\"pred.npy\").reshape(-1, 12)\n",
    "preds_df = pd.DataFrame(preds).join(index_df).rename(columns={i: f\"TimesNet_p{i+1}\" for i in range(12)})\n",
    "preds_df = preds_df.set_index(\"date\")\n",
    "\n",
    "# Load true values of LSTM\n",
    "lstm_df = pd.read_csv(\"results/LSTM_predictions.csv\").rename(columns={f\"p{i}\": f\"LSTM_p{i}\" for i in range(1, 13)})\n",
    "lstm_df['datetime'] = pd.to_datetime(lstm_df['datetime']) + pd.DateOffset(hours=12)\n",
    "lstm_df = lstm_df.set_index(\"datetime\").join(index_df.set_index(\"date\"), how=\"inner\")\n",
    "\n",
    "# Join true values, TimesNet and LSTM\n",
    "outputs = lstm_df.join(preds_df).join(trues_df)"
   ]
  },
  {
   "cell_type": "code",
   "execution_count": 19,
   "metadata": {},
   "outputs": [],
   "source": [
    "lstm_rmse, timeNet_rmse = {}, {}\n",
    "for i in range(1, 13):\n",
    "    timesNet = outputs[f'TimesNet_p{i}']\n",
    "    lstm = outputs[f'LSTM_p{i}']\n",
    "    trues = outputs[f\"Trues_p{i}\"]\n",
    "\n",
    "    timeNet_rmse[i] = mean_squared_error(trues, timesNet, squared=False)\n",
    "    lstm_rmse[i] = mean_squared_error(trues, lstm, squared=False)"
   ]
  },
  {
   "cell_type": "code",
   "execution_count": 20,
   "metadata": {},
   "outputs": [],
   "source": [
    "import os\n",
    "output_dir = Path(\"plot/LSTM_TimesNet_comparison\")\n",
    "if not os.path.exists(output_dir):\n",
    "    os.mkdir(output_dir)\n",
    "\n",
    "for i in range(1, 13):\n",
    "    fig = px.line(\n",
    "        outputs, x=outputs.index, y=[f'LSTM_p{i}', f'TimesNet_p{i}', f\"Trues_p{i}\"], \n",
    "        title=f\"Lead Time {i}\", labels={'x': 'Time', 'value': 'Wind Speed'},\n",
    "    )\n",
    "    time.sleep(1)\n",
    "    fig.write_html(f\"plot/LSTM_TimesNet_comparison/p{i}.html\")\n",
    "\n",
    "df = pd.DataFrame([timeNet_rmse, lstm_rmse], index=[\"TimesNet\", \"LSTM\"]).T\n",
    "df.to_csv(output_dir/\"rmse.csv\")"
   ]
  },
  {
   "cell_type": "code",
   "execution_count": null,
   "metadata": {},
   "outputs": [],
   "source": []
  }
 ],
 "metadata": {
  "kernelspec": {
   "display_name": "TSLibrary",
   "language": "python",
   "name": "python3"
  },
  "language_info": {
   "codemirror_mode": {
    "name": "ipython",
    "version": 3
   },
   "file_extension": ".py",
   "mimetype": "text/x-python",
   "name": "python",
   "nbconvert_exporter": "python",
   "pygments_lexer": "ipython3",
   "version": "3.8.18"
  }
 },
 "nbformat": 4,
 "nbformat_minor": 2
}
